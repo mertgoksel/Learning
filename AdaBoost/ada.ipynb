{
 "cells": [
  {
   "cell_type": "code",
   "execution_count": 2,
   "source": [
    "import numpy as np\n",
    "import pandas as pd\n",
    "from sklearn.model_selection import train_test_split\n",
    "from sklearn.metrics import classification_report\n",
    "from sklearn.ensemble import AdaBoostClassifier"
   ],
   "outputs": [],
   "metadata": {}
  },
  {
   "cell_type": "code",
   "execution_count": 3,
   "source": [
    "df = pd.read_csv(\"../../../datasets/fraud_20k/fraud_detection_bank_dataset.csv\")\n",
    "df_x = df.drop(\"targets\", axis=1)\n",
    "df_y = df['targets']\n",
    "x_train, x_test, y_train, y_test = train_test_split(df_x,df_y,test_size=.2)"
   ],
   "outputs": [],
   "metadata": {}
  },
  {
   "cell_type": "code",
   "execution_count": 4,
   "source": [
    "model = AdaBoostClassifier()\n",
    "model.fit(x_train, y_train)\n",
    "preds = model.predict(x_test)\n",
    "classification_report(y_test, preds, output_dict=1)['macro avg']"
   ],
   "outputs": [
    {
     "output_type": "execute_result",
     "data": {
      "text/plain": [
       "{'precision': 1.0, 'recall': 1.0, 'f1-score': 1.0, 'support': 4094}"
      ]
     },
     "metadata": {},
     "execution_count": 4
    }
   ],
   "metadata": {}
  }
 ],
 "metadata": {
  "orig_nbformat": 4,
  "language_info": {
   "name": "python",
   "version": "3.8.5",
   "mimetype": "text/x-python",
   "codemirror_mode": {
    "name": "ipython",
    "version": 3
   },
   "pygments_lexer": "ipython3",
   "nbconvert_exporter": "python",
   "file_extension": ".py"
  },
  "kernelspec": {
   "name": "python3",
   "display_name": "Python 3.8.5 64-bit ('base': conda)"
  },
  "interpreter": {
   "hash": "767a0b6d990c655dfacf2b1258b06e161cfee64168c36871de6398be926942a4"
  }
 },
 "nbformat": 4,
 "nbformat_minor": 2
}