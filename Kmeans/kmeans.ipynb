{
 "cells": [
  {
   "cell_type": "code",
   "execution_count": 1,
   "source": [
    "import numpy as np\n",
    "import pandas as pd\n",
    "from sklearn.cluster import KMeans"
   ],
   "outputs": [],
   "metadata": {}
  },
  {
   "cell_type": "code",
   "execution_count": 16,
   "source": [
    "def kmeans(df, k=2, threshold=0.001, max_epochs=400):\n",
    "    \n",
    "    centroids = {}\n",
    "    \n",
    "    for i in range(k):\n",
    "        centroids[i] = df[i]\n",
    "    \n",
    "    #fit part\n",
    "    for i in range(max_epochs):\n",
    "        classifications = {}\n",
    "        for i in range(k):\n",
    "            classifications[i] = []\n",
    "        for columns in df:\n",
    "            distances = [np.linalg.norm(columns-centroids[i]) for i in centroids]\n",
    "            classification = distances.index(min(distances))\n",
    "            classifications[classification].append(columns)\n",
    "        prev = dict(centroids)\n",
    "        for clas in classifications:\n",
    "            centroids[clas] = np.average(classifications[clas], axis=0)\n",
    "        \n",
    "        opt = 1\n",
    "        for i in centroids:\n",
    "            origin = prev[i]\n",
    "            curr = centroids[i]\n",
    "            if np.sum((curr-origin)/origin*100.0) > threshold:\n",
    "                opt = 0\n",
    "        if opt:\n",
    "            break\n",
    "    \n",
    "    #predict part\n",
    "    preds = []\n",
    "    for row in df:\n",
    "        preds.append(np.argmin([np.linalg.norm(row-centroids[i]) for i in centroids]))\n",
    "    return preds\n",
    "        \n"
   ],
   "outputs": [],
   "metadata": {}
  },
  {
   "cell_type": "code",
   "execution_count": 2,
   "source": [
    "df = np.array([[1, 2],\n",
    "              [1.5, 1.8],\n",
    "              [5, 8 ],\n",
    "              [8, 8],\n",
    "              [1, 0.6],\n",
    "              [9,11]])"
   ],
   "outputs": [],
   "metadata": {}
  },
  {
   "cell_type": "code",
   "execution_count": 17,
   "source": [
    "kmeans(df)"
   ],
   "outputs": [
    {
     "output_type": "execute_result",
     "data": {
      "text/plain": [
       "[0, 0, 1, 1, 0, 1]"
      ]
     },
     "metadata": {},
     "execution_count": 17
    }
   ],
   "metadata": {}
  },
  {
   "cell_type": "code",
   "execution_count": 22,
   "source": [
    "import matplotlib.pyplot as plt\n",
    "plt.scatter(df[:,0], df[:,1], c=kmeans(df))"
   ],
   "outputs": [
    {
     "output_type": "execute_result",
     "data": {
      "text/plain": [
       "<matplotlib.collections.PathCollection at 0x7feca7f6f820>"
      ]
     },
     "metadata": {},
     "execution_count": 22
    },
    {
     "output_type": "display_data",
     "data": {
      "image/png": "[encoded data removed]",
      "text/plain": [
       "<Figure size 432x288 with 1 Axes>"
      ]
     },
     "metadata": {
      "needs_background": "light"
     }
    }
   ],
   "metadata": {}
  }
 ],
 "metadata": {
  "orig_nbformat": 4,
  "language_info": {
   "name": "python",
   "version": "3.8.5",
   "mimetype": "text/x-python",
   "codemirror_mode": {
    "name": "ipython",
    "version": 3
   },
   "pygments_lexer": "ipython3",
   "nbconvert_exporter": "python",
   "file_extension": ".py"
  },
  "kernelspec": {
   "name": "python3",
   "display_name": "Python 3.8.5 64-bit ('base': conda)"
  },
  "interpreter": {
   "hash": "767a0b6d990c655dfacf2b1258b06e161cfee64168c36871de6398be926942a4"
  }
 },
 "nbformat": 4,
 "nbformat_minor": 2
}