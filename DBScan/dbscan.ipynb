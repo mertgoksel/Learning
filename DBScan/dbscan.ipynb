{
 "cells": [
  {
   "cell_type": "code",
   "execution_count": 470,
   "source": [
    "import numpy as np\n",
    "import pandas as pd\n",
    "from scipy.spatial.distance import cdist\n",
    "from iteration_utilities import deepflatten\n",
    "\n",
    "def dbscan(df, eps=2):\n",
    "    \n",
    "    labels = {}\n",
    "\n",
    "    data = [i.tolist() for i in df]\n",
    "\n",
    "    it = 0\n",
    "    while 1:\n",
    "\n",
    "        if it == 0:\n",
    "            point = data[0]\n",
    "        else:\n",
    "            point = data_ex[0]\n",
    "        \n",
    "        labels[it] = [point]\n",
    "\n",
    "        flag = 0\n",
    "        while flag == 0:\n",
    "            \n",
    "            data_ex = [row.tolist() for row in df if row.tolist() not in list(deepflatten(list(labels.values()), depth=1))]\n",
    "            if len(data_ex) == 0:\n",
    "                n = []\n",
    "                for k in df.tolist():    \n",
    "                    for key in labels:\n",
    "                        for item in labels[key]:\n",
    "                            if k == item:\n",
    "                                n.append(key)\n",
    "                return n\n",
    "            distances = cdist(data_ex, [point])\n",
    "            arg_min = np.argmin(distances)\n",
    "            if distances[arg_min] > eps:\n",
    "                break\n",
    "            labels[it].append(data_ex[arg_min])\n",
    "            point = data_ex[arg_min]\n",
    "        it += 1"
   ],
   "outputs": [],
   "metadata": {}
  },
  {
   "cell_type": "code",
   "execution_count": 471,
   "source": [
    "dbscan(df)"
   ],
   "outputs": [
    {
     "output_type": "execute_result",
     "data": {
      "text/plain": [
       "[0, 0, 1, 2, 0, 3]"
      ]
     },
     "metadata": {},
     "execution_count": 471
    }
   ],
   "metadata": {}
  },
  {
   "cell_type": "code",
   "execution_count": 472,
   "source": [
    "import matplotlib.pyplot as plt\n",
    "\n",
    "plt.scatter(df[:,0],df[:,1],c=dbscan(df))"
   ],
   "outputs": [
    {
     "output_type": "execute_result",
     "data": {
      "text/plain": [
       "<matplotlib.collections.PathCollection at 0x7f04256cc550>"
      ]
     },
     "metadata": {},
     "execution_count": 472
    },
    {
     "output_type": "display_data",
     "data": {
      "image/png": "[encoded data removed]",
      "text/plain": [
       "<Figure size 432x288 with 1 Axes>"
      ]
     },
     "metadata": {
      "needs_background": "light"
     }
    }
   ],
   "metadata": {}
  }
 ],
 "metadata": {
  "orig_nbformat": 4,
  "language_info": {
   "name": "python",
   "version": "3.8.5",
   "mimetype": "text/x-python",
   "codemirror_mode": {
    "name": "ipython",
    "version": 3
   },
   "pygments_lexer": "ipython3",
   "nbconvert_exporter": "python",
   "file_extension": ".py"
  },
  "kernelspec": {
   "name": "python3",
   "display_name": "Python 3.8.5 64-bit ('base': conda)"
  },
  "interpreter": {
   "hash": "767a0b6d990c655dfacf2b1258b06e161cfee64168c36871de6398be926942a4"
  }
 },
 "nbformat": 4,
 "nbformat_minor": 2
}