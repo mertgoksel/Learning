{
 "cells": [
  {
   "cell_type": "code",
   "execution_count": 101,
   "source": [
    "import numpy as np"
   ],
   "outputs": [],
   "metadata": {}
  },
  {
   "cell_type": "code",
   "execution_count": 63,
   "source": [
    "x = np.array([1,2,3,4,5,6,7])\n",
    "y = np.array([[1,3,5,7,9,11,13]])"
   ],
   "outputs": [],
   "metadata": {}
  },
  {
   "cell_type": "code",
   "execution_count": 74,
   "source": [
    "#Least Squares Method\n",
    "\n",
    "def linear_simple(x,y):\n",
    "    ysum = y.sum()\n",
    "    xsum = x.sum()\n",
    "    ymean = ysum/7\n",
    "    xmean = xsum/7\n",
    "    yxsum = x.ravel().dot(y.ravel())\n",
    "    xsquaredsum = sum(x**2)\n",
    "    extracted = ysum*xsum/7\n",
    "    botextracted = (xsum**2)/7\n",
    "    slope = (yxsum-extracted)/(xsquaredsum - botextracted)\n",
    "    intercept = ymean - slope * xmean\n",
    "    return f\"intercept: {intercept}, slope: {slope}\""
   ],
   "outputs": [],
   "metadata": {}
  },
  {
   "cell_type": "code",
   "execution_count": 96,
   "source": [
    "linear_simple(x,y)"
   ],
   "outputs": [
    {
     "output_type": "execute_result",
     "data": {
      "text/plain": [
       "'intercept: -1.0, slope: 2.0'"
      ]
     },
     "metadata": {},
     "execution_count": 96
    }
   ],
   "metadata": {}
  },
  {
   "cell_type": "code",
   "execution_count": 99,
   "source": [
    "#algorithm\n",
    "def linear_simple_gradient(x,y):\n",
    "    intercept = slope = 0\n",
    "    for i in range(1000):\n",
    "        y_pred = intercept + slope * x \n",
    "        int_der = -2 * np.sum(y - y_pred)\n",
    "        slope_der = -2 * x.sum() * np.sum(y - y_pred)\n",
    "        intercept = intercept - 0.001 * int_der\n",
    "        slope = slope - 0.001 * slope_der\n",
    "    return f\"intercept: {intercept}, slope: {slope}\""
   ],
   "outputs": [],
   "metadata": {}
  },
  {
   "cell_type": "code",
   "execution_count": 100,
   "source": [
    "linear_simple_gradient(x,y)"
   ],
   "outputs": [
    {
     "output_type": "execute_result",
     "data": {
      "text/plain": [
       "'intercept: 0.061946902654867235, slope: 1.734513274336283'"
      ]
     },
     "metadata": {},
     "execution_count": 100
    }
   ],
   "metadata": {}
  }
 ],
 "metadata": {
  "orig_nbformat": 4,
  "language_info": {
   "name": "python",
   "version": "3.8.5",
   "mimetype": "text/x-python",
   "codemirror_mode": {
    "name": "ipython",
    "version": 3
   },
   "pygments_lexer": "ipython3",
   "nbconvert_exporter": "python",
   "file_extension": ".py"
  },
  "kernelspec": {
   "name": "python3",
   "display_name": "Python 3.8.5 64-bit ('base': conda)"
  },
  "interpreter": {
   "hash": "767a0b6d990c655dfacf2b1258b06e161cfee64168c36871de6398be926942a4"
  }
 },
 "nbformat": 4,
 "nbformat_minor": 2
}