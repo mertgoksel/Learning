{
 "cells": [
  {
   "cell_type": "code",
   "execution_count": 36,
   "source": [
    "import numpy as np\n",
    "import pandas as pd"
   ],
   "outputs": [],
   "metadata": {}
  },
  {
   "cell_type": "code",
   "execution_count": 157,
   "source": [
    "x = np.array([1,2,3,4,5,6,7])\n",
    "y = np.array([1,3,5,7,9,11,13])\n",
    "z = np.array([2,4,6,8,10,12,14])\n",
    "df = pd.DataFrame({\"x\":x, \"y\":y})\n",
    "df['z'] = [2,4,6,8,10,12,14]\n",
    "df_test = pd.DataFrame({\"x\":x, \"z\":z})"
   ],
   "outputs": [],
   "metadata": {}
  },
  {
   "cell_type": "code",
   "execution_count": 34,
   "source": [
    "#Least Squares Method\n",
    "\n",
    "def linear_simple(x,y):\n",
    "    ysum = sum(y)\n",
    "    xsum = sum(x)\n",
    "    ymean = ysum/len(y)\n",
    "    xmean = xsum/len(x)\n",
    "    yxsum = sum(x*y)\n",
    "    xsquaredsum = sum(x**2)\n",
    "    extracted = ysum*xsum/len(x)\n",
    "    botextracted = (xsum**2)/len(x)\n",
    "    slope = (yxsum-extracted)/(xsquaredsum - botextracted)\n",
    "    intercept = ymean - slope * xmean\n",
    "    return f\"intercept: {intercept}, slope: {slope}\""
   ],
   "outputs": [],
   "metadata": {}
  },
  {
   "cell_type": "code",
   "execution_count": 35,
   "source": [
    "linear_simple(x,y)"
   ],
   "outputs": [
    {
     "output_type": "execute_result",
     "data": {
      "text/plain": [
       "'intercept: -1.0, slope: 2.0'"
      ]
     },
     "metadata": {},
     "execution_count": 35
    }
   ],
   "metadata": {}
  },
  {
   "cell_type": "code",
   "execution_count": 41,
   "source": [
    "#Gradient Descent for 1 indep, 1 dep variable\n",
    "def linear_simple_gradient(x,y,learning_rate,epochs):\n",
    "    intercept = slope = 0\n",
    "    for i in range(epochs):\n",
    "        y_pred = intercept + slope * x \n",
    "        int_der = -2 * sum(y - y_pred) / len(x) #MSE derivative for intercept\n",
    "        slope_der = -2 * sum(x * (y - y_pred)) / len(x) #MSE derivative for slope\n",
    "        intercept = intercept - learning_rate * int_der\n",
    "        slope = slope - learning_rate * slope_der\n",
    "    return f\"intercept: {intercept:.2f}, slope: {slope:.2f}\""
   ],
   "outputs": [],
   "metadata": {}
  },
  {
   "cell_type": "code",
   "execution_count": 49,
   "source": [
    "linear_simple_gradient(x,y,0.01,1000)"
   ],
   "outputs": [
    {
     "output_type": "execute_result",
     "data": {
      "text/plain": [
       "'intercept: -0.97, slope: 1.99'"
      ]
     },
     "metadata": {},
     "execution_count": 49
    }
   ],
   "metadata": {}
  },
  {
   "cell_type": "code",
   "execution_count": 187,
   "source": [
    "\n",
    "#Gradient Descent for inifinite indep, 1 dep variable (pek olmadı galiba xD)\n",
    "def linear_multiple_gradient(df,dependant,learning_rate,epochs):\n",
    "    intercept = 0\n",
    "    slopes = [0 for i in range(len(df.columns)-1)]\n",
    "    dep = df[f'{dependant}']\n",
    "    df = df.drop(f\"{dependant}\", axis=1)\n",
    "    rows = np.array([df[f\"{k}\"][j] for j in range(len(df)) for k in df]).reshape(len(df),len(df.columns))\n",
    "    for i in range(epochs):\n",
    "        y_pred = intercept + sum([i*slopes for i in rows]).sum()\n",
    "        int_der = -2 * sum(dep - y_pred) / len(df) #MSE derivative for intercept\n",
    "        slope_der = [-2 * sum(df[f\"x\"] * (dep - y_pred)) / len(df) for x in df] #MSE derivative for slope\n",
    "        intercept = intercept - learning_rate * int_der\n",
    "        slopes = np.array(slopes) - learning_rate * np.array(slope_der)\n",
    "    return [intercept, slopes]\n",
    "# Will try again :/"
   ],
   "outputs": [],
   "metadata": {}
  },
  {
   "cell_type": "code",
   "execution_count": 188,
   "source": [
    "linear_multiple_gradient(df, \"y\", 0.01, 100)"
   ],
   "outputs": [
    {
     "output_type": "execute_result",
     "data": {
      "text/plain": [
       "[-2.0773772653281006e+74, array([-8.30950906e+74, -8.30950906e+74])]"
      ]
     },
     "metadata": {},
     "execution_count": 188
    }
   ],
   "metadata": {}
  },
  {
   "cell_type": "code",
   "execution_count": 177,
   "source": [
    "0.01 * [1,1]"
   ],
   "outputs": [
    {
     "output_type": "error",
     "ename": "TypeError",
     "evalue": "can't multiply sequence by non-int of type 'float'",
     "traceback": [
      "\u001b[0;31m---------------------------------------------------------------------------\u001b[0m",
      "\u001b[0;31mTypeError\u001b[0m                                 Traceback (most recent call last)",
      "\u001b[0;32m<ipython-input-177-a0c240281efd>\u001b[0m in \u001b[0;36m<module>\u001b[0;34m\u001b[0m\n\u001b[0;32m----> 1\u001b[0;31m \u001b[0;36m0.01\u001b[0m \u001b[0;34m*\u001b[0m \u001b[0;34m[\u001b[0m\u001b[0;36m1\u001b[0m\u001b[0;34m,\u001b[0m\u001b[0;36m1\u001b[0m\u001b[0;34m]\u001b[0m\u001b[0;34m\u001b[0m\u001b[0;34m\u001b[0m\u001b[0m\n\u001b[0m",
      "\u001b[0;31mTypeError\u001b[0m: can't multiply sequence by non-int of type 'float'"
     ]
    }
   ],
   "metadata": {}
  }
 ],
 "metadata": {
  "orig_nbformat": 4,
  "language_info": {
   "name": "python",
   "version": "3.8.5",
   "mimetype": "text/x-python",
   "codemirror_mode": {
    "name": "ipython",
    "version": 3
   },
   "pygments_lexer": "ipython3",
   "nbconvert_exporter": "python",
   "file_extension": ".py"
  },
  "kernelspec": {
   "name": "python3",
   "display_name": "Python 3.8.5 64-bit ('base': conda)"
  },
  "interpreter": {
   "hash": "767a0b6d990c655dfacf2b1258b06e161cfee64168c36871de6398be926942a4"
  }
 },
 "nbformat": 4,
 "nbformat_minor": 2
}