{
 "cells": [
  {
   "cell_type": "code",
   "execution_count": 21,
   "source": [
    "import numpy as np\n",
    "\n",
    "def sigmoid(input):\n",
    "    return 1/(1 + np.exp(-input))\n",
    "\n",
    "def logistic_reg(train_x, train_y, learning_rate=0.001, epoch=1000):\n",
    "    try: slopes = np.zeros(train_x.shape[1])\n",
    "    except IndexError: slopes = np.zeros(1)\n",
    "    size = train_x.shape[0]\n",
    "    intercept = 0\n",
    "    for i in range(epoch):\n",
    "        if len(slopes) > 1:\n",
    "            sigma = sigmoid(np.dot(train_x, slopes) + intercept)\n",
    "        else:\n",
    "            sigma = sigmoid(train_x * slopes + intercept)\n",
    "        #crossent = -1/size * np.sum(train_y * np.log(sigma) + (1 - y) * np.log(1-sigma))\n",
    "        slopes_der = 1/size * np.dot(train_x.T, (sigma - train_y))\n",
    "        intercept_der =  1/size * np.sum(sigma - train_y)\n",
    "        slopes -= learning_rate * slopes_der\n",
    "        intercept -= learning_rate * intercept_der\n",
    "    parameters = [intercept, slopes]\n",
    "    return parameters"
   ],
   "outputs": [],
   "metadata": {}
  },
  {
   "cell_type": "code",
   "execution_count": 26,
   "source": [
    "import pandas as pd\n",
    "import matplotlib.pyplot as plt\n",
    "train_df = pd.read_csv(\"~/Stat/Python/titanic/train.csv\")\n",
    "test_df = pd.read_csv(\"~/Stat/Python/titanic/test.csv\")\n",
    "train_df = train_df.iloc[:, [1,5]]\n",
    "test_df = test_df.iloc[:,4]\n",
    "train_df = train_df.dropna()\n",
    "test_df = test_df.dropna()\n",
    "x_train = train_df.iloc[:,1]\n",
    "y_train = train_df.iloc[:,0]"
   ],
   "outputs": [],
   "metadata": {}
  },
  {
   "cell_type": "code",
   "execution_count": 23,
   "source": [
    "from sklearn.linear_model import LogisticRegression\n",
    "model = LogisticRegression()"
   ],
   "outputs": [],
   "metadata": {}
  },
  {
   "cell_type": "code",
   "execution_count": 36,
   "source": [
    "x_train = np.array(x_train).reshape(-1,1)\n",
    "y_train = np.array(y_train).reshape(-1,1)"
   ],
   "outputs": [],
   "metadata": {}
  },
  {
   "cell_type": "code",
   "execution_count": 38,
   "source": [
    "model.fit(x_train,y_train.ravel())"
   ],
   "outputs": [
    {
     "output_type": "execute_result",
     "data": {
      "text/plain": [
       "LogisticRegression()"
      ]
     },
     "metadata": {},
     "execution_count": 38
    }
   ],
   "metadata": {}
  },
  {
   "cell_type": "code",
   "execution_count": 43,
   "source": [
    "[model.intercept_, model.coef_]"
   ],
   "outputs": [
    {
     "output_type": "execute_result",
     "data": {
      "text/plain": [
       "[array([-0.05674173]), array([[-0.01096274]])]"
      ]
     },
     "metadata": {},
     "execution_count": 43
    }
   ],
   "metadata": {}
  },
  {
   "cell_type": "code",
   "execution_count": 51,
   "source": [
    "logistic_reg(x_train.ravel(), y_train.ravel(), 0.005, 10000)"
   ],
   "outputs": [
    {
     "output_type": "execute_result",
     "data": {
      "text/plain": [
       "[-0.05119578425664955, array([-0.01111589])]"
      ]
     },
     "metadata": {},
     "execution_count": 51
    }
   ],
   "metadata": {}
  }
 ],
 "metadata": {
  "orig_nbformat": 4,
  "language_info": {
   "name": "python",
   "version": "3.8.5",
   "mimetype": "text/x-python",
   "codemirror_mode": {
    "name": "ipython",
    "version": 3
   },
   "pygments_lexer": "ipython3",
   "nbconvert_exporter": "python",
   "file_extension": ".py"
  },
  "kernelspec": {
   "name": "python3",
   "display_name": "Python 3.8.5 64-bit ('base': conda)"
  },
  "interpreter": {
   "hash": "767a0b6d990c655dfacf2b1258b06e161cfee64168c36871de6398be926942a4"
  }
 },
 "nbformat": 4,
 "nbformat_minor": 2
}